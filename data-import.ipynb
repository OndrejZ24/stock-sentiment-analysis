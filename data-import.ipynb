{
 "cells": [
  {
   "cell_type": "code",
   "execution_count": null,
   "id": "f45c207c",
   "metadata": {},
   "outputs": [
    {
     "name": "stdout",
     "output_type": "stream",
     "text": [
      "Error connecting to Oracle DB: DPY-6005: cannot connect to database (CONNECTION_ID=6icMxKt7kbqArSapJKkPJQ==).\n",
      "DPY-6000: Listener refused connection. (Similar to ORA-12506)\n"
     ]
    }
   ],
   "source": [
    "from utils import get_oracle_connection, fetch_and_insert_posts_comments, safe_execute, reddit\n",
    "\n",
    "conn = get_oracle_connection()\n",
    "if conn:\n",
    "    cursor = conn.cursor()\n",
    "\n",
    "    cursor.execute(\"SELECT subreddit, last_fetched_utc FROM subreddit_tracker\")\n",
    "    subreddit_data = cursor.fetchall()\n",
    "\n",
    "    for sub, last_utc in subreddit_data:\n",
    "        print(f\"\\nFetching new data for subreddit: {sub}\")\n",
    "        conn, cursor, max_utc = fetch_and_insert_posts_comments(\n",
    "            reddit, sub, last_fetched_utc=last_utc, conn=conn, cursor=cursor\n",
    "        )\n",
    "\n",
    "        if max_utc > last_utc:\n",
    "            conn, cursor = safe_execute(conn, cursor, \"\"\"\n",
    "                UPDATE subreddit_tracker SET last_fetched_utc = :max_utc WHERE subreddit = :sub\n",
    "            \"\"\", {\"max_utc\": max_utc, \"sub\": sub})\n",
    "            print(f\"Updated last_fetched_utc for {sub} to {max_utc}\")\n",
    "\n",
    "    cursor.close()\n",
    "    conn.close()\n",
    "    print(\"\\n Data inserted and subreddit_tracker updated successfully!\")"
   ]
  }
 ],
 "metadata": {
  "kernelspec": {
   "display_name": ".venv",
   "language": "python",
   "name": "python3"
  },
  "language_info": {
   "name": "python",
   "version": "3.13.9"
  }
 },
 "nbformat": 4,
 "nbformat_minor": 5
}
