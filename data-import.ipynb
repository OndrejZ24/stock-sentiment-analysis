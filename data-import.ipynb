{
 "cells": [
  {
   "cell_type": "code",
   "execution_count": null,
   "id": "7502a787",
   "metadata": {},
   "outputs": [],
   "source": [
    "import os\n",
    "from dotenv import load_dotenv\n",
    "from utils import get_oracle_connection, fetch_and_insert_posts_comments, safe_execute\n",
    "import praw\n",
    "\n",
    "load_dotenv()\n",
    "\n",
    "if __name__ == \"__main__\":\n",
    "    reddit = praw.Reddit(\n",
    "    client_id=os.getenv(\"api-client_id\"),\n",
    "    client_secret=os.getenv(\"api-client_secret\"),\n",
    "    user_agent=\"stock_market_scraper\",\n",
    "    username=os.getenv(\"api-username\"),\n",
    "    password=os.getenv(\"api-password\")\n",
    "    )\n",
    "\n",
    "    conn = get_oracle_connection()\n",
    "    if conn:\n",
    "        cursor = conn.cursor()\n",
    "\n",
    "\n",
    "        cursor.execute(\"SELECT subreddit, last_fetched_utc FROM subreddit_tracker\")\n",
    "        subreddit_data = cursor.fetchall()\n",
    "\n",
    "        for sub, last_utc in subreddit_data:\n",
    "            print(f\"\\nFetching new data for subreddit: {sub}\")\n",
    "            conn, cursor, max_utc = fetch_and_insert_posts_comments(\n",
    "                reddit, sub, last_fetched_utc=last_utc, conn=conn, cursor=cursor\n",
    "            )\n",
    "\n",
    "            if max_utc > last_utc:\n",
    "                conn, cursor = safe_execute(conn, cursor, \"\"\"\n",
    "                    UPDATE subreddit_tracker SET last_fetched_utc = :max_utc WHERE subreddit = :sub\n",
    "                \"\"\", {\"max_utc\": max_utc, \"sub\": sub})\n",
    "                print(f\"Updated last_fetched_utc for {sub} to {max_utc}\")\n",
    "\n",
    "        cursor.close()\n",
    "        conn.close()\n",
    "        print(\"\\n Data inserted and subreddit_tracker updated successfully!\")"
   ]
  }
 ],
 "metadata": {
  "kernelspec": {
   "display_name": ".venv",
   "language": "python",
   "name": "python3"
  },
  "language_info": {
   "codemirror_mode": {
    "name": "ipython",
    "version": 3
   },
   "file_extension": ".py",
   "mimetype": "text/x-python",
   "name": "python",
   "nbconvert_exporter": "python",
   "pygments_lexer": "ipython3",
   "version": "3.13.7"
  }
 },
 "nbformat": 4,
 "nbformat_minor": 5
}
