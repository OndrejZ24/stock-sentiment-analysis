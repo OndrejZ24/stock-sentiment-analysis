{
 "cells": [
  {
   "cell_type": "code",
   "execution_count": 1,
   "id": "c3449d6e",
   "metadata": {},
   "outputs": [],
   "source": [
    "import pandas as pd\n",
    "from utils import get_oracle_connection\n"
   ]
  },
  {
   "cell_type": "code",
   "execution_count": null,
   "id": "123aebdf",
   "metadata": {},
   "outputs": [],
   "source": [
    "print(\"Vítek\")"
   ]
  },
  {
   "cell_type": "code",
   "execution_count": 4,
   "id": "03510070",
   "metadata": {},
   "outputs": [
    {
     "name": "stdout",
     "output_type": "stream",
     "text": [
      "Connection successful!\n"
     ]
    },
    {
     "name": "stderr",
     "output_type": "stream",
     "text": [
      "/var/folders/5k/xsh6xzj10l121lg2lr_6rpkm0000gn/T/ipykernel_4806/1819118660.py:5: UserWarning: pandas only supports SQLAlchemy connectable (engine/connection) or database string URI or sqlite3 DBAPI2 connection. Other DBAPI2 objects are not tested. Please consider using SQLAlchemy.\n",
      "  df_posts = pd.read_sql(\"SELECT * FROM historical_posts WHERE ROWNUM <= 1000\", conn)\n",
      "/var/folders/5k/xsh6xzj10l121lg2lr_6rpkm0000gn/T/ipykernel_4806/1819118660.py:6: UserWarning: pandas only supports SQLAlchemy connectable (engine/connection) or database string URI or sqlite3 DBAPI2 connection. Other DBAPI2 objects are not tested. Please consider using SQLAlchemy.\n",
      "  df_comments = pd.read_sql(\"SELECT * FROM historical_comments WHERE ROWNUM <= 1000\", conn)\n"
     ]
    },
    {
     "name": "stdout",
     "output_type": "stream",
     "text": [
      "Posts shape: (1000, 10)\n",
      "Comments shape: (1000, 7)\n"
     ]
    }
   ],
   "source": [
    "conn = get_oracle_connection()\n",
    "\n",
    "\n",
    "if conn:\n",
    "    df_posts = pd.read_sql(\"SELECT * FROM historical_posts WHERE ROWNUM <= 1000\", conn)\n",
    "    df_comments = pd.read_sql(\"SELECT * FROM historical_comments WHERE ROWNUM <= 1000\", conn)\n",
    "\n",
    "    conn.close()\n",
    "\n",
    "    print(\"Posts shape:\", df_posts.shape)\n",
    "    print(\"Comments shape:\", df_comments.shape)"
   ]
  }
 ],
 "metadata": {
  "kernelspec": {
   "display_name": ".venv",
   "language": "python",
   "name": "python3"
  },
  "language_info": {
   "codemirror_mode": {
    "name": "ipython",
    "version": 3
   },
   "file_extension": ".py",
   "mimetype": "text/x-python",
   "name": "python",
   "nbconvert_exporter": "python",
   "pygments_lexer": "ipython3",
   "version": "3.13.7"
  }
 },
 "nbformat": 4,
 "nbformat_minor": 5
}
