{
 "cells": [
  {
   "cell_type": "markdown",
   "id": "6c71c795",
   "metadata": {},
   "source": [
    "# Preprocessing — přehled\n",
    "\n",
    "1. Setup — imports & environment\n",
    "2. Database — načtení `historical_posts` a `historical_comments`\n",
    "3. Load tickers — načtení a normalizace seznamu tickerů (NASDAQ + NYSE)\n",
    "4. Data harmonization <br>\n",
    "   4.1 Sjednocení schémat do `df_unified`<br>\n",
    "   4.2 Placeholder-only rows analysis — analýza řádků s pouze placeholdery<br>\n",
    "   4.3 Odstranění [removed]/[deleted] placeholderů<br>\n",
    "   4.4 Spojení `title` + `body` pro posty do `text`<br>\n",
    "5. EDA — overview, missingness, text length, temporal analysis <br>\n",
    "   5.1 Data types & schema overview — kontrola datových typů<br>\n",
    "   5.2 Column value distributions — unikátní hodnoty, konstantní sloupce<br>\n",
    "   5.3 Overview — counts & missingness<br>\n",
    "   5.4 Text characteristics — word count histograms<br>\n",
    "   5.5 Temporal analysis — day/hour distribution<br>\n",
    "   5.6 Engagement metrics — score & upvote ratio<br>\n",
    "   5.7 Integrity and duplicates — ID uniqueness, authors<br>\n",
    "6. Data Cleaning — odstranění invalidních/prázdných záznamů, deduplikace\n",
    "7. Feature engineering — text_length, word_count, temporal a engagement features, weighted_score\n",
    "8. Ticker detection <br>\n",
    "   8.1 Detekce `mentioned_tickers`, `n_tickers`, `ticker_exchanges`<br>\n",
    "   8.2 Ticker inheritance — inherit parent post tickers to comments + přepočet exchanges<br>\n",
    "   8.3 Inheritance success check — analýza úspěšnosti dědění<br>\n",
    "   8.4 Data Type Conversion — ensure all types persist through pipeline<br>\n",
    "9. Text normalization — lowercase, odstranění URLs/interpunkce, stopword removal (tickers již v mentioned_tickers)\n",
    "10. Export — konverze mentioned_tickers na CSV-friendly string, export `sentiment_ready_data.csv`\n",
    "11. Process Map Visualization — Graphviz vizualizace celého pipeline\n",
    "\n",
    "**Výstup:** `sentiment_ready_data.csv`"
   ]
  },
  {
   "cell_type": "markdown",
   "id": "b04f2632",
   "metadata": {},
   "source": [
    "- **Zde dokumentace k Reddit API, kde najdete popis sloupců: https://praw.readthedocs.io/en/stable/code_overview/models/submission.html?utm_source=chatgpt.com**"
   ]
  },
  {
   "cell_type": "markdown",
   "id": "affc3561",
   "metadata": {},
   "source": [
    "- **Silně Doporučuju stahnout tady ve VScodu extension Data Wrangler od Microsoftu. Je to dobry na divani se na dataframy a jsou tam i nejaky data quality metriky a jde ten df otevrit normalne jako dalsi okno tady ve vscodu aktualizovat ho s tim jak se ten dataframe upravuje v prubehu preprocessingu. Obecne mi to prijde jako mega fajn extension.**"
   ]
  },
  {
   "cell_type": "markdown",
   "id": "5358f6b5",
   "metadata": {},
   "source": [
    "- **V levé liště je možná orientace v dokukmentu pomocí OUTLINE**"
   ]
  },
  {
   "cell_type": "markdown",
   "id": "1b2e4feb",
   "metadata": {},
   "source": [
    "- **Většina použitých funkcí je definována v utils.py a importována sem.**"
   ]
  },
  {
   "cell_type": "markdown",
   "id": "8b70ba40",
   "metadata": {},
   "source": [
    "- Za gramatický zločiny jak v cz a en určitě nezodpovídám xd"
   ]
  },
  {
   "cell_type": "markdown",
   "id": "ccb93896",
   "metadata": {},
   "source": [
    "**ENJOY THE RUN**"
   ]
  },
  {
   "cell_type": "markdown",
   "id": "71bb957f",
   "metadata": {},
   "source": [
    "## 1 Setup — Imports & environment\n",
    "\n",
    "Načteme potřebné knihovny a ověříme dostupnost spaCy/NLTK a DB driveru. To nám řekne, které nástroje můžeme použít dál pro čištění a tokenizaci textu."
   ]
  },
  {
   "cell_type": "code",
   "execution_count": null,
   "id": "6a1346aa",
   "metadata": {},
   "outputs": [
    {
     "name": "stdout",
     "output_type": "stream",
     "text": [
      "NLTK stopwords data found\n",
      "✅ spaCy 'en_core_web_sm' model found\n",
      "Step 1: imports loaded — available: NLTK, spaCy\n",
      "✅ spaCy 'en_core_web_sm' model found\n",
      "Step 1: imports loaded — available: NLTK, spaCy\n"
     ]
    }
   ],
   "source": [
    "# 1. Setup: Imports and Configuration\n",
    "\n",
    "import pandas as pd\n",
    "import numpy as np\n",
    "import logging\n",
    "import os\n",
    "import re\n",
    "import time\n",
    "from datetime import datetime\n",
    "from typing import List, Set, Dict, Any\n",
    "from tqdm import tqdm\n",
    "from io import StringIO\n",
    "import urllib.request\n",
    "import urllib.parse\n",
    "\n",
    "# Environment and database imports\n",
    "try:\n",
    "    from dotenv import load_dotenv\n",
    "    load_dotenv()\n",
    "    DOTENV_AVAILABLE = True\n",
    "except ImportError:\n",
    "    DOTENV_AVAILABLE = False\n",
    "\n",
    "try:\n",
    "    import oracledb\n",
    "    ORACLE_AVAILABLE = True\n",
    "except ImportError:\n",
    "    ORACLE_AVAILABLE = False\n",
    "    print(\"Oracle DB not available. Install with: pip install oracledb\")\n",
    "\n",
    "# Checking for NLP libraries (if you lack any - install with pip install)\n",
    "available_libs = []\n",
    "try:\n",
    "    import nltk\n",
    "    NLTK_AVAILABLE = True\n",
    "    available_libs.append(\"NLTK\")\n",
    "\n",
    "    # Check if NLTK stopwords are downloaded\n",
    "    try:\n",
    "        nltk.data.find('corpora/stopwords')\n",
    "        print(\"NLTK stopwords data found\")\n",
    "    except LookupError:\n",
    "        print(\"NLTK stopwords not found. Attempting to download...\")\n",
    "        try:\n",
    "            nltk.download('stopwords', quiet=True)\n",
    "            print(\"NLTK stopwords downloaded successfully\")\n",
    "        except Exception as e:\n",
    "            print(f\"Failed to download NLTK stopwords: {e}\")\n",
    "            print(\"   Will use fallback stopword list\")\n",
    "except ImportError:\n",
    "    NLTK_AVAILABLE = False\n",
    "\n",
    "try:\n",
    "    import spacy\n",
    "    SPACY_AVAILABLE = True\n",
    "    available_libs.append(\"spaCy\")\n",
    "\n",
    "    # Check if spaCy model is available\n",
    "    try:\n",
    "        spacy.load(\"en_core_web_sm\")\n",
    "        print(\"spaCy 'en_core_web_sm' model found\")\n",
    "    except OSError:\n",
    "        print(\"spaCy model 'en_core_web_sm' not found\")\n",
    "        print(\"   Install with: python -m spacy download en_core_web_sm\")\n",
    "        print(\"   Will fall back to NLTK if available\")\n",
    "except ImportError:\n",
    "    SPACY_AVAILABLE = False\n",
    "\n",
    "# Import functions from utils\n",
    "from utils import (\n",
    "    get_oracle_connection,\n",
    "    get_all_us_tickers,\n",
    "    detect_tickers_in_text,\n",
    "    apply_ticker_detection,\n",
    "    harmonize_schema,\n",
    "    drop_invalid_texts,\n",
    "    deduplicate_and_normalize_types,\n",
    "    add_temporal_features,\n",
    "    add_engagement_features,\n",
    "    apply_text_normalization,\n",
    "    remove_financial_stopwords,\n",
    "    remove_stopwords_spacy\n",
    ")\n",
    "\n",
    "# Configure logging\n",
    "logging.basicConfig(level=logging.INFO, format=\"%(asctime)s [%(levelname)s] %(message)s\")\n",
    "logger = logging.getLogger(__name__)\n",
    "\n",
    "# Configuration constants for minimal text lenght of texts to be considered valid and retry delay for operations\n",
    "MIN_TEXT_LENGTH = 10\n",
    "RETRY_DELAY = 10\n",
    "\n",
    "print(f\"Step 1: imports loaded — available: {', '.join(available_libs) if available_libs else 'none'}\")"
   ]
  },
  {
   "cell_type": "markdown",
   "id": "cb70ac2c",
   "metadata": {},
   "source": [
    "## 2 Database — Extract posts & comments\n",
    "\n",
    "Připojíme se k databázi (nebo načteme z cache) a stáhneme posty a komentáře. "
   ]
  },
  {
   "cell_type": "code",
   "execution_count": 2,
   "id": "6c10b68e",
   "metadata": {},
   "outputs": [
    {
     "name": "stdout",
     "output_type": "stream",
     "text": [
      "Step 2: importing Reddit data from Oracle database\n",
      "Oracle credentials found, so far so good...\n",
      "Oracle connection successful!\n",
      "Database connection successful\n",
      "Oracle connection successful!\n",
      "Database connection successful\n"
     ]
    },
    {
     "name": "stderr",
     "output_type": "stream",
     "text": [
      "/var/folders/33/r5z8ht2928103xc7s_sb_xx80000gq/T/ipykernel_54712/1254892469.py:32: UserWarning: pandas only supports SQLAlchemy connectable (engine/connection) or database string URI or sqlite3 DBAPI2 connection. Other DBAPI2 objects are not tested. Please consider using SQLAlchemy.\n",
      "  df_posts = pd.read_sql_query(query_posts, conn)\n",
      "/var/folders/33/r5z8ht2928103xc7s_sb_xx80000gq/T/ipykernel_54712/1254892469.py:43: UserWarning: pandas only supports SQLAlchemy connectable (engine/connection) or database string URI or sqlite3 DBAPI2 connection. Other DBAPI2 objects are not tested. Please consider using SQLAlchemy.\n",
      "  df_comments = pd.read_sql_query(query_comments, conn)\n",
      "/var/folders/33/r5z8ht2928103xc7s_sb_xx80000gq/T/ipykernel_54712/1254892469.py:43: UserWarning: pandas only supports SQLAlchemy connectable (engine/connection) or database string URI or sqlite3 DBAPI2 connection. Other DBAPI2 objects are not tested. Please consider using SQLAlchemy.\n",
      "  df_comments = pd.read_sql_query(query_comments, conn)\n"
     ]
    },
    {
     "name": "stdout",
     "output_type": "stream",
     "text": [
      "\n",
      "Posts imported: (1000, 10)\n",
      "Comments imported: (1000, 7)\n",
      "Posts columns: ['AUTHOR', 'TITLE', 'CREATED_UTC', 'ID', 'IS_ORIGINAL_CONTENT', 'SCORE', 'BODY', 'SUBREDDIT', 'UPVOTE_RATIO', 'URL']\n",
      "Comments columns: ['AUTHOR', 'CREATED_UTC', 'ID', 'PARENT_POST_ID', 'SCORE', 'BODY', 'SUBREDDIT']\n",
      "\n",
      "Step 2 complete: Loaded 1000 posts and 1000 comments. Letzgoo\n"
     ]
    }
   ],
   "source": [
    "# 2. Database Connection: Loading Reddit Data from Oracle\n",
    "\n",
    "print(\"Step 2: importing Reddit data from Oracle database\")\n",
    "\n",
    "# Check if Oracle DB is available and credentials are set in environment variables\n",
    "oracle_credentials_available = (\n",
    "    ORACLE_AVAILABLE and\n",
    "    os.getenv('db-username') and\n",
    "    os.getenv('db-password') and\n",
    "    os.getenv('db-dsn')\n",
    ")\n",
    "\n",
    "if oracle_credentials_available:\n",
    "    print(\"Oracle credentials found, so far so good...\")\n",
    "\n",
    "    conn = get_oracle_connection()\n",
    "\n",
    "    if conn:\n",
    "        print(\"Database connection successful\")\n",
    "\n",
    "        # Importing data from database\n",
    "        try:\n",
    "            # Query to import posts (number of them is set to 5000 for testing, but can be set in the variable)\n",
    "            query_posts = \"\"\"\n",
    "                SELECT\n",
    "                    author, title, created_utc, id, is_original_content,\n",
    "                    score, DBMS_LOB.SUBSTR(body, 4000, 1) as body,\n",
    "                    subreddit, upvote_ratio, url\n",
    "                FROM historical_posts\n",
    "                WHERE ROWNUM <= 1000\n",
    "            \"\"\"\n",
    "            df_posts = pd.read_sql_query(query_posts, conn)\n",
    "\n",
    "            # Query to import comments (number of them is set to 5000 for testing, but can be set in the variable)\n",
    "            query_comments = \"\"\"\n",
    "                SELECT\n",
    "                    author, created_utc, id, parent_post_id, score,\n",
    "                    DBMS_LOB.SUBSTR(body, 4000, 1) as body,\n",
    "                    subreddit\n",
    "                FROM historical_comments\n",
    "                WHERE ROWNUM <= 1000\n",
    "            \"\"\"\n",
    "            df_comments = pd.read_sql_query(query_comments, conn)\n",
    "\n",
    "            # Closing connection immediately after data import so that it does not stay open longer than needed\n",
    "            conn.close()\n",
    "\n",
    "            print(f\"\\nPosts imported: {df_posts.shape}\")\n",
    "            print(f\"Comments imported: {df_comments.shape}\")\n",
    "\n",
    "            if len(df_posts) > 0:\n",
    "                print(f\"Posts columns: {list(df_posts.columns)}\")\n",
    "\n",
    "            if len(df_comments) > 0:\n",
    "                print(f\"Comments columns: {list(df_comments.columns)}\")\n",
    "\n",
    "        except Exception as e:\n",
    "            print(f\"Error importing data from database: {e}\")\n",
    "            if conn:\n",
    "                try:\n",
    "                    conn.close()\n",
    "                except:\n",
    "                    pass\n",
    "            df_posts = pd.DataFrame()\n",
    "            df_comments = pd.DataFrame()\n",
    "\n",
    "    else:\n",
    "        print(\"Failed to connect to database - check logs, kinda cooked you are\")\n",
    "        df_posts = pd.DataFrame()\n",
    "        df_comments = pd.DataFrame()\n",
    "\n",
    "else:\n",
    "    print(\"Oracle database credentials not configured — set them in .env file or environment variables\")\n",
    "    df_posts = pd.DataFrame()\n",
    "    df_comments = pd.DataFrame()\n",
    "\n",
    "print(f\"\\nStep 2 complete: Loaded {len(df_posts)} posts and {len(df_comments)} comments. Letzgoo\")"
   ]
  },
  {
   "cell_type": "code",
   "execution_count": 3,
   "id": "63cd0401",
   "metadata": {},
   "outputs": [
    {
     "name": "stdout",
     "output_type": "stream",
     "text": [
      "                 AUTHOR                                              TITLE  \\\n",
      "0           BrockForsey  40K in traditional IRA. Should I transfer to m...   \n",
      "1  Legitimate_Author_20  could you a suggestion for splitting my 50,000...   \n",
      "2             fxroy5673  ✅ I Offer clear, concise signals backed by tho...   \n",
      "3  Few-Professional-859                Good time for semiconductor stocks?   \n",
      "4         CyrilPCallist             Begineer looking for investing advice    \n",
      "\n",
      "   CREATED_UTC       ID  IS_ORIGINAL_CONTENT  SCORE  \\\n",
      "0   1721474597  1e7tfbb                    0      3   \n",
      "1   1721475391  1e7tmnc                    0      1   \n",
      "2   1721475575  1e7tobx                    0      1   \n",
      "3   1721477170  1e7u4jj                    0      1   \n",
      "4   1721480593  1e7v5s3                    0      1   \n",
      "\n",
      "                                                BODY  SUBREDDIT  UPVOTE_RATIO  \\\n",
      "0  Potentially relevant details: 36 yo, married, ...  investing          0.57   \n",
      "1                                          [removed]  investing          0.50   \n",
      "2                                          [removed]  investing          1.00   \n",
      "3                                          [removed]  investing          1.00   \n",
      "4                                          [removed]  investing          1.00   \n",
      "\n",
      "                                                 URL  \n",
      "0  https://www.reddit.com/r/investing/comments/1e...  \n",
      "1  https://www.reddit.com/r/investing/comments/1e...  \n",
      "2  https://www.reddit.com/r/investing/comments/1e...  \n",
      "3  https://www.reddit.com/r/investing/comments/1e...  \n",
      "4  https://www.reddit.com/r/investing/comments/1e...  \n"
     ]
    }
   ],
   "source": [
    "print(df_posts.head())\n"
   ]
  },
  {
   "cell_type": "code",
   "execution_count": 4,
   "id": "038a1630",
   "metadata": {},
   "outputs": [
    {
     "name": "stdout",
     "output_type": "stream",
     "text": [
      "                   AUTHOR                                              TITLE  \\\n",
      "0             BrockForsey  40K in traditional IRA. Should I transfer to m...   \n",
      "1    Legitimate_Author_20  could you a suggestion for splitting my 50,000...   \n",
      "2               fxroy5673  ✅ I Offer clear, concise signals backed by tho...   \n",
      "3    Few-Professional-859                Good time for semiconductor stocks?   \n",
      "4           CyrilPCallist             Begineer looking for investing advice    \n",
      "..                    ...                                                ...   \n",
      "995            Astrid-427        What's the most underrated stock right now?   \n",
      "996           chinoaleman  Why is $KSS so low despite a good P/E ratio? W...   \n",
      "997            Astrid-427                Do you consider $RICK a good stock?   \n",
      "998           nachihapter  Response to Thread - 'Should we buy Reddit (RD...   \n",
      "999      Efficient-Ad3985         Seeking Help with Stock Pitch Presentation   \n",
      "\n",
      "     CREATED_UTC       ID  IS_ORIGINAL_CONTENT  SCORE  \\\n",
      "0     1721474597  1e7tfbb                    0      3   \n",
      "1     1721475391  1e7tmnc                    0      1   \n",
      "2     1721475575  1e7tobx                    0      1   \n",
      "3     1721477170  1e7u4jj                    0      1   \n",
      "4     1721480593  1e7v5s3                    0      1   \n",
      "..           ...      ...                  ...    ...   \n",
      "995   1728429788  1fzdndo                    0      1   \n",
      "996   1728431619  1fzea19                    0      3   \n",
      "997   1728431894  1fzed84                    0      2   \n",
      "998   1728432717  1fzenet                    0      1   \n",
      "999   1728433899  1fzf1jz                    0      6   \n",
      "\n",
      "                                                  BODY       SUBREDDIT  \\\n",
      "0    Potentially relevant details: 36 yo, married, ...       investing   \n",
      "1                                            [removed]       investing   \n",
      "2                                            [removed]       investing   \n",
      "3                                            [removed]       investing   \n",
      "4                                            [removed]       investing   \n",
      "..                                                 ...             ...   \n",
      "995  I guess this is something that gets asked a lo...  ValueInvesting   \n",
      "996  I've seen that KSS has dropped a lot in the la...  ValueInvesting   \n",
      "997  Hey everyone, I'm curious to know your thought...  ValueInvesting   \n",
      "998  Let's buy it. Let's say I have access to lot o...  ValueInvesting   \n",
      "999  Hello everyone, I hope this message finds you ...  ValueInvesting   \n",
      "\n",
      "     UPVOTE_RATIO                                                URL  \n",
      "0            0.57  https://www.reddit.com/r/investing/comments/1e...  \n",
      "1            0.50  https://www.reddit.com/r/investing/comments/1e...  \n",
      "2            1.00  https://www.reddit.com/r/investing/comments/1e...  \n",
      "3            1.00  https://www.reddit.com/r/investing/comments/1e...  \n",
      "4            1.00  https://www.reddit.com/r/investing/comments/1e...  \n",
      "..            ...                                                ...  \n",
      "995          1.00  https://www.reddit.com/r/ValueInvesting/commen...  \n",
      "996          0.72  https://www.reddit.com/r/ValueInvesting/commen...  \n",
      "997          0.57  https://www.reddit.com/r/ValueInvesting/commen...  \n",
      "998          0.14  https://www.reddit.com/r/ValueInvesting/commen...  \n",
      "999          0.75  https://www.reddit.com/r/ValueInvesting/commen...  \n",
      "\n",
      "[1000 rows x 10 columns]\n"
     ]
    }
   ],
   "source": [
    "print(df_posts)"
   ]
  },
  {
   "cell_type": "markdown",
   "id": "6ba52502",
   "metadata": {},
   "source": [
    "## 3 Load tickers — Ticker list & exchanges\n",
    "\n",
    "Načteme a normalizujeme seznam tickerů (lokálně nebo ze zdroje) - podívej se na strukturu toho csvcka. Podíváme se na rozložení tickerů dle burzy (vychází pořád z toho csvcka)."
   ]
  },
  {
   "cell_type": "code",
   "execution_count": 5,
   "id": "9bd8a27f",
   "metadata": {},
   "outputs": [
    {
     "name": "stderr",
     "output_type": "stream",
     "text": [
      "INFO:utils:Built combined US tickers: 8031\n"
     ]
    },
    {
     "name": "stdout",
     "output_type": "stream",
     "text": [
      "Fetched and cached 8031 US tickers\n",
      "  Exchanges: {'NASDAQ': 5150, 'NYSE': 2881}\n",
      "\n",
      "Step 3 complete: Loaded 8031 ticker symbols. Letzgoo\n"
     ]
    }
   ],
   "source": [
    "# 3. Ticker Data Loading: Fetch NASDAQ/NYSE Symbols\n",
    "us_tickers_path = \"us_tickers.csv\"\n",
    "\n",
    "if os.path.exists(us_tickers_path):\n",
    "    try:\n",
    "        tickers_df = pd.read_csv(us_tickers_path, dtype=str)\n",
    "        tickers_df.columns = [c.strip().lower().replace(\" \", \"_\") for c in tickers_df.columns]\n",
    "        if 'ticker' in tickers_df.columns:\n",
    "            tickers_df['ticker'] = tickers_df['ticker'].astype(str).str.upper().str.strip()\n",
    "        print(f\"Loaded {len(tickers_df)} cached tickers\")\n",
    "    except Exception as e:\n",
    "        print(f\"Error loading cached data: {e}\")\n",
    "        tickers_df = None\n",
    "else:\n",
    "    tickers_df = None\n",
    "\n",
    "# If no cached data or fresh data\n",
    "if tickers_df is None or len(tickers_df) == 0:\n",
    "    try:\n",
    "        tickers_df = get_all_us_tickers()\n",
    "        if len(tickers_df) > 0:\n",
    "            tickers_df.to_csv(us_tickers_path, index=False)\n",
    "            print(f\"Fetched and cached {len(tickers_df)} US tickers\")\n",
    "        else:\n",
    "            print(\"No ticker data retrieved - this should not happen xd\")\n",
    "    except Exception as e:\n",
    "        print(f\"Error fetching ticker data: {e}\")\n",
    "        tickers_df = pd.DataFrame()\n",
    "\n",
    "if len(tickers_df) > 0:\n",
    "    print(f\"  Exchanges: {tickers_df['exchange'].value_counts().to_dict()}\")\n",
    "\n",
    "else:\n",
    "    print(\"No ticker data available - ur cooked bro\")\n",
    "\n",
    "print(f\"\\nStep 3 complete: Loaded {len(tickers_df)} ticker symbols. Letzgoo\")"
   ]
  },
  {
   "cell_type": "markdown",
   "id": "a288a0b5",
   "metadata": {},
   "source": [
    "## 4 Data harmonization — unify posts & comments\n",
    "\n",
    "Sjednotíme posts a comments do jednoho `df_unified` s konzistentními sloupci (id, text, type, title, parent_post_id...). Myslel jsem, že tohle bude dočasný řešení (takový temporary zjednoduseni) a divani se na posty a komenty uplne stejne, ale nakonec jde skrze parent_post_id hezky mapovat napříč daty takže bych to dělal takhle (bude dávat větší smysl to co píšu v dalších krocích i guess)."
   ]
  },
  {
   "cell_type": "markdown",
   "id": "62b336fa",
   "metadata": {},
   "source": [
    "### 4.1 Unifying posts & comments\n",
    "\n",
    "Sloučíme **df_posts** a **df_comments**, přemapujeme názvy a vytvoříme jednotný sloupec `text`, ktery bude ten nejdulezitejsi sloupec na pozdejsi analyzu basically. Tady je ořekávané to, že u sloupců, které posty mají jen posty, vzniknou v tom samém sloupci pro komentáře NAs. A naopak. To je v pořádku a řešíme to dále."
   ]
  },
  {
   "cell_type": "code",
   "execution_count": 6,
   "id": "21117e4b",
   "metadata": {},
   "outputs": [
    {
     "name": "stderr",
     "output_type": "stream",
     "text": [
      "/Users/simon2/Library/CloudStorage/OneDrive-Personal/UČENÍ/Textová analytika 2/stock-sentiment-analysis/utils.py:189: FutureWarning: The behavior of DataFrame concatenation with empty or all-NA entries is deprecated. In a future version, this will no longer exclude empty or all-NA columns when determining the result dtypes. To retain the old behavior, exclude the relevant entries before the concat operation.\n",
      "  unified = pd.concat([posts, comments], ignore_index=True, sort=False)\n",
      "INFO:utils:Harmonized schema. Unified dataframe shape: (2000, 12)\n"
     ]
    },
    {
     "name": "stdout",
     "output_type": "stream",
     "text": [
      "Unified dataframe shape: (2000, 12)\n",
      "Unified columns: ['author', 'title', 'created_utc', 'id', 'is_original_content', 'score', 'text', 'subreddit', 'upvote_ratio', 'url', 'parent_post_id', 'type']\n",
      "\n",
      "Data distribution:\n",
      "  post: 1000 rows\n",
      "  comment: 1000 rows\n",
      "\n",
      "Step 4.1 complete: Unified 2000 rows. Letzgoo\n"
     ]
    }
   ],
   "source": [
    "# 4. Data Harmonization: Merge Posts and Comments\n",
    "\n",
    "if len(df_posts) > 0 or len(df_comments) > 0:\n",
    "    # combining data\n",
    "    df_unified = harmonize_schema(df_posts, df_comments)\n",
    "    print(f\"Unified dataframe shape: {df_unified.shape}\")\n",
    "    print(f\"Unified columns: {list(df_unified.columns)}\")\n",
    "\n",
    "    # data type distribution\n",
    "    type_counts = df_unified['type'].value_counts()\n",
    "    print(f\"\\nData distribution:\")\n",
    "    for dtype, count in type_counts.items():\n",
    "        print(f\"  {dtype}: {count} rows\")\n",
    "\n",
    "else:\n",
    "    print(\"No data to harmonize\")\n",
    "    df_unified = pd.DataFrame()\n",
    "\n",
    "print(f\"\\nStep 4.1 complete: Unified {len(df_unified)} rows. Letzgoo\")"
   ]
  },
  {
   "cell_type": "code",
   "execution_count": 7,
   "id": "4dd96a22",
   "metadata": {},
   "outputs": [
    {
     "name": "stdout",
     "output_type": "stream",
     "text": [
      "                 author                                              title  \\\n",
      "0           BrockForsey  40K in traditional IRA. Should I transfer to m...   \n",
      "1  Legitimate_Author_20  could you a suggestion for splitting my 50,000...   \n",
      "2             fxroy5673  ✅ I Offer clear, concise signals backed by tho...   \n",
      "3  Few-Professional-859                Good time for semiconductor stocks?   \n",
      "4         CyrilPCallist             Begineer looking for investing advice    \n",
      "\n",
      "   created_utc       id is_original_content  score  \\\n",
      "0   1721474597  1e7tfbb                   0      3   \n",
      "1   1721475391  1e7tmnc                   0      1   \n",
      "2   1721475575  1e7tobx                   0      1   \n",
      "3   1721477170  1e7u4jj                   0      1   \n",
      "4   1721480593  1e7v5s3                   0      1   \n",
      "\n",
      "                                                text  subreddit  upvote_ratio  \\\n",
      "0  Potentially relevant details: 36 yo, married, ...  investing          0.57   \n",
      "1                                          [removed]  investing          0.50   \n",
      "2                                          [removed]  investing          1.00   \n",
      "3                                          [removed]  investing          1.00   \n",
      "4                                          [removed]  investing          1.00   \n",
      "\n",
      "                                                 url parent_post_id  type  \n",
      "0  https://www.reddit.com/r/investing/comments/1e...           None  post  \n",
      "1  https://www.reddit.com/r/investing/comments/1e...           None  post  \n",
      "2  https://www.reddit.com/r/investing/comments/1e...           None  post  \n",
      "3  https://www.reddit.com/r/investing/comments/1e...           None  post  \n",
      "4  https://www.reddit.com/r/investing/comments/1e...           None  post  \n"
     ]
    }
   ],
   "source": [
    "print(df_unified.head())"
   ]
  },
  {
   "cell_type": "markdown",
   "id": "4a09e66d",
   "metadata": {},
   "source": [
    "### 4.2 Placeholder-only rows analysis\n",
    "\n",
    "Některé řádky mají **pouze** placeholdery ([removed]/[deleted]) - tohle bylo zjisteno na zaklade inspekce dataframu, ale stejně by to bylo zjištěno později. Tyhle sloupce nemají žádný skutečný obsah → budou smazány v dalším kroku. Tady se podíváme kolik takových řádků máme, a jak jsou rozloženy podle typu (posty vs komenty)."
   ]
  },
  {
   "cell_type": "code",
   "execution_count": 8,
   "id": "0439c146",
   "metadata": {},
   "outputs": [
    {
     "name": "stdout",
     "output_type": "stream",
     "text": [
      "\n",
      "Placeholder-Only Rows by Type:\n",
      "  COMMENT: 34 rows will be deleted\n",
      "    text: [removed]=33, [deleted]=1, empty/NA=0\n"
     ]
    }
   ],
   "source": [
    "if len(df_unified) == 0:\n",
    "    print(\"No data\")\n",
    "else:\n",
    "    def is_placeholder(s):\n",
    "        if pd.isna(s):\n",
    "            return True\n",
    "        s = str(s).strip().lower()\n",
    "        return s == '' or s in {'[deleted]', '[removed]', 'nan'}\n",
    "\n",
    "    text_placeholder = df_unified['text'].apply(is_placeholder)\n",
    "    title_placeholder = df_unified.get('title', pd.Series(False, index=df_unified.index)).apply(is_placeholder)\n",
    "\n",
    "    to_drop_mask = (\n",
    "        ((df_unified['type'] == 'post') & title_placeholder & text_placeholder) |\n",
    "        ((df_unified['type'] == 'comment') & text_placeholder)\n",
    "    )\n",
    "\n",
    "    if to_drop_mask.any():\n",
    "        print(\"\\nPlaceholder-Only Rows by Type:\")\n",
    "\n",
    "        for t, grp in df_unified[to_drop_mask].groupby('type'):\n",
    "            print(f\"  {t.upper()}: {len(grp):,} rows will be deleted\")\n",
    "\n",
    "            if t == 'post':\n",
    "                for col in ['title', 'text']:\n",
    "                    removed = (grp[col].str.strip().str.lower() == '[removed]').sum()\n",
    "                    deleted = (grp[col].str.strip().str.lower() == '[deleted]').sum()\n",
    "                    print(f\"    {col}: [removed]={removed:,}, [deleted]={deleted:,}\")\n",
    "            else:\n",
    "                txt = grp['text'].astype(str).str.strip().str.lower()\n",
    "                removed = (txt == '[removed]').sum()\n",
    "                deleted = (txt == '[deleted]').sum()\n",
    "                empty = (txt == '').sum()\n",
    "                print(f\"    text: [removed]={removed:,}, [deleted]={deleted:,}, empty/NA={empty:,}\")\n",
    "    else:\n",
    "        print(\"No placeholder-only rows found.\")"
   ]
  },
  {
   "cell_type": "markdown",
   "id": "3e0b9e32",
   "metadata": {},
   "source": [
    "**Oukej, vypadá to, že vždy jsou plný placeholderů jen komenty (většinou [removed])** S lehkým srdcem toto 1% dat mažem v příštím kroku xd"
   ]
  },
  {
   "cell_type": "markdown",
   "id": "534dc37f",
   "metadata": {},
   "source": [
    "### 4.3 deleting [removed]/[deleted] placeholders (**NOT REMOVING MISSING VALUES - THESE ARE HANDLED LATER**)\n",
    "\n",
    "Místo samotných NAs, je v nadpisech Tohle je udelany, abychom pri pozdejsim feature engineeringu nedostali neco jako: \"Emotional investing research. [removed]\""
   ]
  },
  {
   "cell_type": "code",
   "execution_count": 9,
   "id": "92ebd542",
   "metadata": {},
   "outputs": [
    {
     "name": "stdout",
     "output_type": "stream",
     "text": [
      "We removed 34 placeholder-only rows (kept posts with title if present).\n"
     ]
    }
   ],
   "source": [
    "# turning placeholders into empty string\n",
    "if 'title' in df_unified.columns:\n",
    "    df_unified['title'] = df_unified['title'].apply(lambda x: '' if is_placeholder(x) else str(x).strip())\n",
    "if 'text' in df_unified.columns:\n",
    "    df_unified['text'] = df_unified['text'].apply(lambda x: '' if is_placeholder(x) else str(x).strip())\n",
    "\n",
    "# Droping posts where both title and text are empty after cleaning\n",
    "before = len(df_unified)\n",
    "mask_empty_post = (df_unified['type'] == 'post') & (df_unified.get('title', '').astype(str).str.strip() == '') & (df_unified.get('text', '').astype(str).str.strip() == '')\n",
    "mask_empty_comment = (df_unified['type'] == 'comment') & (df_unified.get('text', '').astype(str).str.strip() == '')\n",
    "\n",
    "# For comments we will drop those with empty body. For posts we will drop only if both title+text empty\n",
    "to_drop = mask_empty_post | mask_empty_comment\n",
    "df_unified = df_unified[~to_drop].reset_index(drop=True)\n",
    "after = len(df_unified)\n",
    "print(f\"We removed {before - after} placeholder-only rows (kept posts with title if present).\")"
   ]
  },
  {
   "cell_type": "markdown",
   "id": "81e6dbfb",
   "metadata": {},
   "source": [
    "### 4.4 Merging title + body for posts into **text** column\n",
    "\n",
    "U postů spojíme `title` s tělem, protože titul často obsahuje klíčovou informaci nebo ticker. Title a to tělo spolu přímo souvisí a je to vlastně jedna entita (tedy post). Reálně není důvod proč to neudělat a navíc můžeme poté smazat sloupec title, který byl stejně z půlky NAs (komentare nemaji title), což prakticky nevadilo ale vis co o sloupec min lol. Zvýší to později šanci, že detekce tickerů a sentimentu zachytí o čem post reálně je."
   ]
  },
  {
   "cell_type": "code",
   "execution_count": 10,
   "id": "d5b013ed",
   "metadata": {},
   "outputs": [
    {
     "name": "stdout",
     "output_type": "stream",
     "text": [
      "Dropped 'title' column (merged into 'text')\n",
      "Done\n"
     ]
    }
   ],
   "source": [
    "# 4.4 Enhanced Text: Merge Title + Body for Posts\n",
    "\n",
    "if len(df_unified) > 0:\n",
    "\n",
    "    # For posts: concatenate title + body\n",
    "    # For comments: keep body only (no title)\n",
    "    def create_enhanced_text(row):\n",
    "        if row['type'] == 'post':\n",
    "            title = str(row.get('title', '')).strip()\n",
    "            body = str(row.get('text', '')).strip()\n",
    "            # Combine title and body with separator\n",
    "            if title and title != 'nan' and body and body != 'nan':\n",
    "                return f\"{title}. {body}\"\n",
    "            elif title and title != 'nan':\n",
    "                return title\n",
    "            elif body and body != 'nan':\n",
    "                return body\n",
    "            else:\n",
    "                return ''\n",
    "        else:\n",
    "            # Comments: use text only\n",
    "            return str(row.get('text', '')).strip()\n",
    "\n",
    "    df_unified['enhanced_text'] = df_unified.apply(create_enhanced_text, axis=1)\n",
    "\n",
    "    # Replace 'text' column with enhanced version\n",
    "    df_unified['text'] = df_unified['enhanced_text']\n",
    "    df_unified.drop(columns=['enhanced_text'], inplace=True)\n",
    "\n",
    "    # We can safely rop title column since it's now merged into text (and later ticker detection is done on the \"text\" column)\n",
    "    if 'title' in df_unified.columns:\n",
    "        df_unified.drop(columns=['title'], inplace=True)\n",
    "        print(\"Dropped 'title' column (merged into 'text')\")\n",
    "\n",
    "    print(f\"Done\")\n",
    "\n",
    "else:\n",
    "    print(\"No data to enhance\")"
   ]
  },
  {
   "cell_type": "markdown",
   "id": "8739232b",
   "metadata": {},
   "source": [
    "## 5 Exploratory Data Analysis (EDA)\n",
    "\n",
    "Projdeme kvalitu dat a základní statistiky, abychom věděli jak data dál (pokud je to potřeba) upravit."
   ]
  },
  {
   "cell_type": "markdown",
   "id": "5af08cff",
   "metadata": {},
   "source": [
    "### 5.1 Data types chekc/conversion & schema overview\n",
    "\n",
    "Zkontrolujeme datové typy všech sloupců a případně je upravíme. To nám pomůže identifikovat potenciální problémy v datech a zajistit správné zpracování v dalších krocích."
   ]
  },
  {
   "cell_type": "code",
   "execution_count": 11,
   "id": "4bfcbf1c",
   "metadata": {},
   "outputs": [
    {
     "name": "stdout",
     "output_type": "stream",
     "text": [
      "Dataset shape: (1966, 11)\n",
      "  author               : object         \n",
      "  created_utc          : int64          \n",
      "  id                   : object         \n",
      "  is_original_content  : object         \n",
      "  score                : int64          \n",
      "  text                 : object         \n",
      "  subreddit            : object         \n",
      "  upvote_ratio         : float64        \n",
      "  url                  : object         \n",
      "  parent_post_id       : object         \n",
      "  type                 : object         \n"
     ]
    }
   ],
   "source": [
    "# 5.1 Data types check\n",
    "\n",
    "if len(df_unified) > 0:\n",
    "    print(f\"Dataset shape: {df_unified.shape}\")\n",
    "\n",
    "    for col in df_unified.columns:\n",
    "        dtype = df_unified[col].dtype\n",
    "        print(f\"  {col:20} : {str(dtype):15}\")\n",
    "\n",
    "else:\n",
    "    print(\"No data available\")"
   ]
  },
  {
   "cell_type": "markdown",
   "id": "7dcfdc95",
   "metadata": {},
   "source": [
    "**Everything seems fine. Data type conversion is now performed after Step 8.2 (ticker inheritance) to ensure types persist through the entire pipeline.**"
   ]
  },
  {
   "cell_type": "markdown",
   "id": "d09e02bd",
   "metadata": {},
   "source": [
    "### 5.2 Column value distributions\n",
    "\n",
    "Prozkoumáme rozložení hodnot ve sloupcích - počty unikátních hodnot, konstantní sloupce a základní distribuce kategorických proměnných."
   ]
  },
  {
   "cell_type": "code",
   "execution_count": 12,
   "id": "0b09d964",
   "metadata": {},
   "outputs": [
    {
     "name": "stdout",
     "output_type": "stream",
     "text": [
      "\n",
      "Unique Value Counts:\n",
      "  author               : 1,546 unique values (78.6% of total)\n",
      "  created_utc          : 1,956 unique values (99.5% of total)\n",
      "  id                   : 1,966 unique values (100.0% of total)\n",
      "  is_original_content  : 1 unique values (0.1% of total)\n",
      "  score                : 100 unique values (5.1% of total)\n",
      "  text                 : 1,915 unique values (97.4% of total)\n",
      "  subreddit            : 3 unique values (0.2% of total)\n",
      "  upvote_ratio         : 85 unique values (4.3% of total)\n",
      "  url                  : 990 unique values (50.4% of total)\n",
      "  parent_post_id       : 216 unique values (11.0% of total)\n",
      "  type                 : 2 unique values (0.1% of total)\n",
      "\n",
      "Step 5.2 completed\n"
     ]
    }
   ],
   "source": [
    "# 5.2 Column Value Distributions\n",
    "\n",
    "if len(df_unified) > 0:\n",
    "    print(\"\\nUnique Value Counts:\")\n",
    "\n",
    "    for col in df_unified.columns:\n",
    "        n_unique = df_unified[col].nunique()\n",
    "        n_total = len(df_unified)\n",
    "        pct_unique = (n_unique / n_total) * 100\n",
    "\n",
    "        print(f\"  {col:20} : {n_unique:,} unique values ({pct_unique:.1f}% of total)\")\n",
    "\n",
    "    print(f\"\\nStep 5.2 completed\")\n",
    "\n",
    "else:\n",
    "    print(\"No data available\")"
   ]
  },
  {
   "cell_type": "markdown",
   "id": "664b963e",
   "metadata": {},
   "source": [
    "**[is_original_content] má jen hodnotu 0, takže ho později dropnem. Nic jinýho podlě mě neznačí nějaký problémy kvůli kterým by stálo za to tohle nějak dále analyzovat či data upravovat.**"
   ]
  },
  {
   "cell_type": "markdown",
   "id": "2dcaee71",
   "metadata": {},
   "source": [
    "### 5.3 Overview — counts & missingness \n",
    "\n",
    "Spočítáme počty, podíly chybějících hodnot a zjistíme, kolik záznamů je smazaných nebo prázdných (NAs)."
   ]
  },
  {
   "cell_type": "code",
   "execution_count": 13,
   "id": "5316784c",
   "metadata": {},
   "outputs": [
    {
     "name": "stdout",
     "output_type": "stream",
     "text": [
      "\n",
      "NAs by Column:\n",
      "  is_original_content: 966 (49.1%)\n",
      "  upvote_ratio: 966 (49.1%)\n",
      "  url: 974 (49.5%)\n",
      "  parent_post_id: 1,000 (50.9%)\n"
     ]
    }
   ],
   "source": [
    "# 5.3 Data Quality & Completeness\n",
    "if len(df_unified) > 0:\n",
    "\n",
    "    print(\"\\nNAs by Column:\")\n",
    "    for col in df_unified.columns:\n",
    "        missing_count = df_unified[col].isna().sum()\n",
    "        if missing_count > 0:\n",
    "            missing_pct = (missing_count / len(df_unified)) * 100\n",
    "            print(f\"  {col}: {missing_count:,} ({missing_pct:.1f}%)\")\n",
    "\n",
    "else:\n",
    "    print(\"No data available for quality analysis.\")"
   ]
  },
  {
   "cell_type": "markdown",
   "id": "249908ea",
   "metadata": {},
   "source": [
    "Všechno je v pořádku — chybějící hodnoty v  [is_original_content], [upvote_ratio], [url], [parent_post_id] jsou strukturální (posty vs. komentáře mají původně různé sloupce). V data cleaning dropneme is_original_content, url. **Naopak [parent_post_id] určitě nedropujeme.** <br>\n",
    "\n",
    "Very short texts (≤5 chars): 104 — ty budou odstraněny v kroku 6 (drop_invalid_texts). <br>"
   ]
  },
  {
   "cell_type": "markdown",
   "id": "476c830b",
   "metadata": {},
   "source": [
    "### 5.4 Text characteristics\n",
    "\n",
    "Podíváme se na délky textů, počty slov a percentily, abychom kdyžtak vyfiltrovali moc krátký/dlouhý (druhá možnost spíše ne, není proč). "
   ]
  },
  {
   "cell_type": "code",
   "execution_count": 14,
   "id": "d022867d",
   "metadata": {},
   "outputs": [
    {
     "name": "stdout",
     "output_type": "stream",
     "text": [
      "\n",
      "Word Count Statistics (Overall):\n",
      "  Mean: 55.9 words\n",
      "  Median: 21.0 words\n",
      "  Min: 1 words\n",
      "  Max: 739 words\n"
     ]
    },
    {
     "data": {
      "image/png": "[encoded data removed]",
      "text/plain": [
       "<Figure size 1600x500 with 2 Axes>"
      ]
     },
     "metadata": {},
     "output_type": "display_data"
    },
    {
     "name": "stdout",
     "output_type": "stream",
     "text": [
      "\n",
      "Quality Issues:\n",
      "  Texts ≤10 chars: 43 (2.2%)\n"
     ]
    }
   ],
   "source": [
    "# 5.4 Text Characteristics\n",
    "\n",
    "if len(df_unified) > 0 and 'text' in df_unified.columns:\n",
    "\n",
    "    # Calculating text statistics\n",
    "    valid_texts = df_unified[df_unified['text'].notna() & (df_unified['text'] != '')]\n",
    "\n",
    "    if len(valid_texts) > 0:\n",
    "        text_lengths = valid_texts['text'].astype(str).str.len()\n",
    "\n",
    "        word_counts = valid_texts['text'].astype(str).str.split().str.len()\n",
    "\n",
    "        print(f\"\\nWord Count Statistics (Overall):\")\n",
    "        print(f\"  Mean: {word_counts.mean():.1f} words\")\n",
    "        print(f\"  Median: {word_counts.median():.1f} words\")\n",
    "        print(f\"  Min: {word_counts.min()} words\")\n",
    "        print(f\"  Max: {word_counts.max()} words\")\n",
    "\n",
    "        try:\n",
    "            import matplotlib.pyplot as plt\n",
    "            if 'type' in valid_texts.columns:\n",
    "                posts = valid_texts[valid_texts['type'] == 'post']\n",
    "                comments = valid_texts[valid_texts['type'] == 'comment']\n",
    "\n",
    "                if len(posts) > 0 and len(comments) > 0:\n",
    "                    post_word_counts = posts['text'].astype(str).str.split().str.len()\n",
    "                    comment_word_counts = comments['text'].astype(str).str.split().str.len()\n",
    "\n",
    "                    fig, (ax1, ax2) = plt.subplots(1, 2, figsize=(16, 5))\n",
    "\n",
    "                    # Posts\n",
    "                    ax1.hist(post_word_counts, bins=50, edgecolor='black', alpha=0.7, color='steelblue')\n",
    "                    ax1.axvline(post_word_counts.mean(), color='red', linestyle='--', linewidth=2, label=f'Mean: {post_word_counts.mean():.1f}')\n",
    "                    ax1.axvline(post_word_counts.median(), color='green', linestyle='--', linewidth=2, label=f'Median: {post_word_counts.median():.1f}')\n",
    "                    ax1.set_xlabel('Number of Words')\n",
    "                    ax1.set_ylabel('Frequency')\n",
    "                    ax1.set_title(f'Posts - Word Count Distribution (n={len(posts):,})')\n",
    "                    ax1.legend()\n",
    "                    ax1.grid(axis='y', alpha=0.3)\n",
    "\n",
    "                    # Comments\n",
    "                    ax2.hist(comment_word_counts, bins=50, edgecolor='black', alpha=0.7, color='coral')\n",
    "                    ax2.axvline(comment_word_counts.mean(), color='red', linestyle='--', linewidth=2, label=f'Mean: {comment_word_counts.mean():.1f}')\n",
    "                    ax2.axvline(comment_word_counts.median(), color='green', linestyle='--', linewidth=2, label=f'Median: {comment_word_counts.median():.1f}')\n",
    "                    ax2.set_xlabel('Number of Words')\n",
    "                    ax2.set_ylabel('Frequency')\n",
    "                    ax2.set_title(f'Comments - Word Count Distribution (n={len(comments):,})')\n",
    "                    ax2.legend()\n",
    "                    ax2.grid(axis='y', alpha=0.3)\n",
    "\n",
    "                    plt.tight_layout()\n",
    "                    plt.show()\n",
    "                else:\n",
    "                    print(\"  Not enough data for separate histograms\")\n",
    "\n",
    "        except ImportError:\n",
    "            print(\"matplotlib not available - install with: pip install matplotlib\")\n",
    "\n",
    "        # Short texts identification\n",
    "        very_short = (text_lengths <= MIN_TEXT_LENGTH).sum()\n",
    "        print(f\"\\nQuality Issues:\")\n",
    "        print(f\"  Texts ≤{MIN_TEXT_LENGTH} chars: {very_short:,} ({very_short/len(valid_texts)*100:.1f}%)\")\n",
    "\n",
    "else:\n",
    "    print(\"No text data\")"
   ]
  },
  {
   "cell_type": "markdown",
   "id": "4d9e4445",
   "metadata": {},
   "source": [
    "**Reálně tu není moc řešit. Tak asi nějak co bychom očekávali. Ten rozdíl není nijak margantní, ale i kdyby byl tak pro účely našeho tasku něco jako outlier v počtu slov neexistuje xd.**"
   ]
  },
  {
   "cell_type": "markdown",
   "id": "9960d814",
   "metadata": {},
   "source": [
    "### 5.5 Temporal analysis\n",
    "\n",
    "Zkontrolujeme časové rozložení příspěvků (denní/hodinové špičky a rozsah dat). To zajímá jen mě osobně, nejspíš to nebude důležitý, but u never know."
   ]
  },
  {
   "cell_type": "code",
   "execution_count": 15,
   "id": "ddec0014",
   "metadata": {},
   "outputs": [
    {
     "name": "stdout",
     "output_type": "stream",
     "text": [
      "\n",
      "Date Range:\n",
      "  Earliest: 2024-02-03 13:20:21\n",
      "  Latest: 2024-11-13 23:17:45\n",
      "  Span: 284 days\n",
      "  Mean posts per day: 42.7\n",
      "\n",
      "Temporal Distribution Charts:\n"
     ]
    },
    {
     "data": {
      "image/png": "[encoded data removed]",
      "text/plain": [
       "<Figure size 1600x500 with 2 Axes>"
      ]
     },
     "metadata": {},
     "output_type": "display_data"
    },
    {
     "name": "stdout",
     "output_type": "stream",
     "text": [
      "\n"
     ]
    }
   ],
   "source": [
    "# 5.5 Temporal Analysis\n",
    "\n",
    "if len(df_unified) > 0 and 'created_utc' in df_unified.columns:\n",
    "\n",
    "    # Converting to datetime\n",
    "    valid_dates = df_unified[df_unified['created_utc'].notna()].copy()\n",
    "\n",
    "    if len(valid_dates) > 0:\n",
    "        valid_dates['datetime'] = pd.to_datetime(valid_dates['created_utc'], unit='s')\n",
    "\n",
    "        # Date range\n",
    "        print(f\"\\nDate Range:\")\n",
    "        print(f\"  Earliest: {valid_dates['datetime'].min()}\")\n",
    "        print(f\"  Latest: {valid_dates['datetime'].max()}\")\n",
    "        print(f\"  Span: {(valid_dates['datetime'].max() - valid_dates['datetime'].min()).days} days\")\n",
    "\n",
    "        valid_dates['date'] = valid_dates['datetime'].dt.date\n",
    "        valid_dates['hour'] = valid_dates['datetime'].dt.hour\n",
    "        valid_dates['day_of_week'] = valid_dates['datetime'].dt.day_name()\n",
    "        valid_dates['month'] = valid_dates['datetime'].dt.month\n",
    "\n",
    "        # Posts per day\n",
    "        daily_counts = valid_dates.groupby('date').size()\n",
    "        print(f\"  Mean posts per day: {daily_counts.mean():.1f}\")\n",
    "\n",
    "        # temporal patterns\n",
    "        print(f\"\\nTemporal Distribution Charts:\")\n",
    "        try:\n",
    "            import matplotlib.pyplot as plt\n",
    "\n",
    "            fig, (ax1, ax2) = plt.subplots(1, 2, figsize=(16, 5))\n",
    "\n",
    "            day_order = ['Monday', 'Tuesday', 'Wednesday', 'Thursday', 'Friday', 'Saturday', 'Sunday']\n",
    "            day_counts = valid_dates['day_of_week'].value_counts()\n",
    "            day_counts_ordered = [int(day_counts.get(d, 0)) for d in day_order]\n",
    "            ax1.bar(range(7), day_counts_ordered, color='steelblue', alpha=0.7, edgecolor='black')\n",
    "            ax1.set_xlabel('Day of Week')\n",
    "            ax1.set_ylabel('Number of Posts')\n",
    "            ax1.set_title('Activity by Day of Week')\n",
    "            ax1.set_xticks(range(7))\n",
    "            ax1.set_xticklabels(['Mon', 'Tue', 'Wed', 'Thu', 'Fri', 'Sat', 'Sun'])\n",
    "            ax1.grid(axis='y', alpha=0.3)\n",
    "\n",
    "            hour_counts = valid_dates['hour'].value_counts()\n",
    "            hours = list(range(24))\n",
    "            counts = [hour_counts.get(h, 0) for h in hours]\n",
    "            ax2.bar(hours, counts, color='coral', alpha=0.7, edgecolor='black')\n",
    "            ax2.set_xlabel('Hour of Day')\n",
    "            ax2.set_ylabel('Number of Posts')\n",
    "            ax2.set_title('Hourly Activity Distribution')\n",
    "            ax2.set_xticks(range(0, 24, 2))\n",
    "            ax2.grid(axis='y', alpha=0.3)\n",
    "\n",
    "            plt.tight_layout()\n",
    "            plt.show()\n",
    "\n",
    "        except ImportError:\n",
    "            print(\"  matplotlib not available - install with: pip install matplotlib\")\n",
    "\n",
    "    print()\n",
    "else:\n",
    "    print(\"Warning: No temporal data available for analysis\")"
   ]
  },
  {
   "cell_type": "markdown",
   "id": "5e2e94f5",
   "metadata": {},
   "source": [
    "**Oukej, peak je úterý/středa a většinou odpolední/večerní hodiny.**"
   ]
  },
  {
   "cell_type": "markdown",
   "id": "ee6e2f8b",
   "metadata": {},
   "source": [
    "### 5.6 Upvote ratio analysis\n",
    "\n",
    "Analyzujeme upvote_ratio - poměr kladných hodnocení (upvotes / (upvotes + downvotes)). Tato metrika je dostupná pouze pro posty."
   ]
  },
  {
   "cell_type": "code",
   "execution_count": 16,
   "id": "333fbfc8",
   "metadata": {},
   "outputs": [
    {
     "name": "stdout",
     "output_type": "stream",
     "text": [
      "  Mean: 0.825\n",
      "  Median: 1.000\n",
      "  Min: 0.080\n",
      "  Max: 1.000\n",
      "\n",
      "Upvote Ratio Histogram:\n"
     ]
    },
    {
     "data": {
      "image/png": "[encoded data removed]",
      "text/plain": [
       "<Figure size 1000x600 with 1 Axes>"
      ]
     },
     "metadata": {},
     "output_type": "display_data"
    }
   ],
   "source": [
    "# 5.6 Upvote Ratio Analysis\n",
    "\n",
    "if len(df_unified) > 0:\n",
    "    if 'upvote_ratio' in df_unified.columns:\n",
    "        posts = df_unified[df_unified['type'] == 'post']\n",
    "\n",
    "        if len(posts) > 0 and 'upvote_ratio' in posts.columns:\n",
    "            upvote_ratios = posts['upvote_ratio'].dropna()\n",
    "\n",
    "            if len(upvote_ratios) > 0:\n",
    "                print(f\"  Mean: {upvote_ratios.mean():.3f}\")\n",
    "                print(f\"  Median: {upvote_ratios.median():.3f}\")\n",
    "                print(f\"  Min: {upvote_ratios.min():.3f}\")\n",
    "                print(f\"  Max: {upvote_ratios.max():.3f}\")\n",
    "\n",
    "\n",
    "            print(f\"\\nUpvote Ratio Histogram:\")\n",
    "            import matplotlib.pyplot as plt\n",
    "\n",
    "            fig, ax = plt.subplots(1, 1, figsize=(10, 6))\n",
    "\n",
    "            # Histogram\n",
    "            ax.hist(upvote_ratios, bins=30, edgecolor='black', alpha=0.7, color='green')\n",
    "            ax.axvline(upvote_ratios.mean(), color='red', linestyle='--', linewidth=2,\n",
    "                        label=f'Mean: {upvote_ratios.mean():.3f}')\n",
    "            ax.axvline(upvote_ratios.median(), color='blue', linestyle='--', linewidth=2,\n",
    "                        label=f'Median: {upvote_ratios.median():.3f}')\n",
    "            ax.set_xlabel('Upvote Ratio')\n",
    "            ax.set_ylabel('Frequency')\n",
    "            ax.set_title(f'Distribution of Upvote Ratios (n={len(upvote_ratios):,} posts)')\n",
    "            ax.legend()\n",
    "            ax.grid(axis='y', alpha=0.3)\n",
    "\n",
    "            plt.tight_layout()\n",
    "            plt.show()\n",
    "\n",
    "else:\n",
    "    print(\"Warning: No data available for upvote ratio analysis\")"
   ]
  },
  {
   "cell_type": "markdown",
   "id": "8669df45",
   "metadata": {},
   "source": [
    "Ratio se pohybuje od 0 do 1, většinou velmi pozitivní ratio. "
   ]
  },
  {
   "cell_type": "markdown",
   "id": "35952e01",
   "metadata": {},
   "source": [
    "### 5.7 Integrity and duplicates\n",
    "\n",
    "Najdeme duplicitní ID a další integrity problémy (chybějící ID, extrémně krátké texty, dále taky podmínka a check na NAs)."
   ]
  },
  {
   "cell_type": "code",
   "execution_count": 17,
   "id": "0f0eaad5",
   "metadata": {},
   "outputs": [
    {
     "name": "stdout",
     "output_type": "stream",
     "text": [
      "  Total rows: 1,966\n",
      "  Unique IDs: 1,966\n",
      "  Duplicate IDs: 0 (0.00%)\n",
      "\n",
      "Potential Data Issues:\n",
      "  Warning: Extremely short texts (≤5 chars): 26 rows\n"
     ]
    }
   ],
   "source": [
    "# 5.7 Data Integrity & Duplicates\n",
    "\n",
    "if len(df_unified) > 0:\n",
    "\n",
    "    # Duplicate IDs\n",
    "    if 'id' in df_unified.columns:\n",
    "        total_ids = len(df_unified)\n",
    "        unique_ids = df_unified['id'].nunique()\n",
    "        duplicate_ids = total_ids - unique_ids\n",
    "\n",
    "        print(f\"  Total rows: {total_ids:,}\")\n",
    "        print(f\"  Unique IDs: {unique_ids:,}\")\n",
    "        print(f\"  Duplicate IDs: {duplicate_ids:,} ({duplicate_ids/total_ids*100:.2f}%)\")\n",
    "\n",
    "        if duplicate_ids > 0:\n",
    "            dup_counts = df_unified['id'].value_counts()\n",
    "            most_duplicated = dup_counts[dup_counts > 1].head(5)\n",
    "            print(f\"\\n  Most duplicated IDs:\")\n",
    "            for id_val, count in most_duplicated.items():\n",
    "                print(f\"    {id_val}: appears {count} times\")\n",
    "\n",
    "    # potential issues\n",
    "    print(f\"\\nPotential Data Issues:\")\n",
    "    issues_found = 0\n",
    "\n",
    "    critical_fields = ['id', 'text', 'created_utc']\n",
    "    for field in critical_fields:\n",
    "        if field in df_unified.columns:\n",
    "            na_count = df_unified[field].isna().sum()\n",
    "            if na_count > 0:\n",
    "                print(f\"  Warning {field}: {na_count:,} missing values\")\n",
    "                issues_found += 1\n",
    "\n",
    "    if 'text' in df_unified.columns:\n",
    "        deleted = df_unified['text'].isin(['[deleted]', '[removed]']).sum()\n",
    "        if deleted > 0:\n",
    "            print(f\"  Warning: Deleted/removed content: {deleted:,} rows\")\n",
    "            issues_found += 1\n",
    "\n",
    "    if 'text' in df_unified.columns:\n",
    "        very_short = (df_unified['text'].astype(str).str.len() <= 5).sum()\n",
    "        if very_short > 0:\n",
    "            print(f\"  Warning: Extremely short texts (≤5 chars): {very_short:,} rows\")\n",
    "            issues_found += 1\n",
    "\n",
    "    if issues_found == 0:\n",
    "        print(\"No major data quality issues detected\")\n",
    "\n",
    "else:\n",
    "    print(\"No data available for integrity analysis\")"
   ]
  },
  {
   "cell_type": "markdown",
   "id": "91cda4a6",
   "metadata": {},
   "source": [
    "## 6. Data Cleaning\n",
    "\n",
    "Odstraníme smazané a prázdné texty, doplníme nebo ošetříme NA a odfiltrujeme příliš krátké záznamy. "
   ]
  },
  {
   "cell_type": "code",
   "execution_count": 18,
   "id": "979d1037",
   "metadata": {},
   "outputs": [
    {
     "name": "stdout",
     "output_type": "stream",
     "text": [
      "Starting with 1966 rows\n",
      "    After removing invalid texts: 1923 rows (-43)\n",
      "    After deduplication: 1923 rows\n",
      "    Dropped columns: ['url', 'is_original_content', 'author']\n",
      "  Original rows: 1966\n",
      "  Cleaned rows: 1923\n",
      "  Removed: 43 (2.2%)\n",
      "\n",
      "Data types after cleaning:\n",
      "  post: 999 rows\n",
      "  comment: 924 rows\n",
      "\n",
      "Step 6 complete: 1923 clean rows\n"
     ]
    }
   ],
   "source": [
    "# 6. Data Cleaning: Remove Invalid and Duplicate Content\n",
    "\n",
    "if len(df_unified) > 0:\n",
    "    print(f\"Starting with {len(df_unified)} rows\")\n",
    "\n",
    "    # Step 6a: Remove invalid texts\n",
    "    df_cleaned = drop_invalid_texts(df_unified, min_len=MIN_TEXT_LENGTH)\n",
    "    print(f\"    After removing invalid texts: {len(df_cleaned)} rows (-{len(df_unified) - len(df_cleaned)})\")\n",
    "\n",
    "    # Step 6b: Deduplicate and normalize types\n",
    "    df_cleaned = deduplicate_and_normalize_types(df_cleaned)\n",
    "    print(f\"    After deduplication: {len(df_cleaned)} rows\")\n",
    "\n",
    "    # Step 6c: Droping unnecessary columns (url, is_original_content, author)\n",
    "    columns_to_drop = ['url', 'is_original_content', 'author']\n",
    "    existing_cols_to_drop = [col for col in columns_to_drop if col in df_cleaned.columns]\n",
    "    if existing_cols_to_drop:\n",
    "        df_cleaned.drop(columns=existing_cols_to_drop, inplace=True)\n",
    "        print(f\"    Dropped columns: {existing_cols_to_drop}\")\n",
    "\n",
    "    # Show cleaning results\n",
    "    if len(df_cleaned) > 0:\n",
    "        print(f\"  Original rows: {len(df_unified)}\")\n",
    "        print(f\"  Cleaned rows: {len(df_cleaned)}\")\n",
    "        print(f\"  Removed: {len(df_unified) - len(df_cleaned)} ({((len(df_unified) - len(df_cleaned))/len(df_unified)*100):.1f}%)\")\n",
    "\n",
    "        # Show data types after cleaning\n",
    "        print(f\"\\nData types after cleaning:\")\n",
    "        type_counts = df_cleaned['type'].value_counts()\n",
    "        for dtype, count in type_counts.items():\n",
    "            print(f\"  {dtype}: {count} rows\")\n",
    "    else:\n",
    "        print(\"No data remaining after cleaning.\")\n",
    "\n",
    "else:\n",
    "    print(\"No data to clean\")\n",
    "    df_cleaned = pd.DataFrame()\n",
    "\n",
    "print(f\"\\nStep 6 complete: {len(df_cleaned)} clean rows\")"
   ]
  },
  {
   "cell_type": "markdown",
   "id": "b9bc0274",
   "metadata": {},
   "source": [
    "## 7. Feature engineering\n",
    "\n",
    "Přidáme užitečné sloupce (text_length, word_count, časové atributy, engagement features). Tyhle featury budeme používat při analýze a modelování."
   ]
  },
  {
   "cell_type": "code",
   "execution_count": 19,
   "id": "d42e97b3",
   "metadata": {},
   "outputs": [
    {
     "name": "stdout",
     "output_type": "stream",
     "text": [
      "\n",
      "Created 'weighted_score' feature (score × upvote_ratio)\n",
      "Dropped columns: ['score', 'upvote_ratio']\n",
      "Enhanced dataframe shape: (1923, 14)\n",
      "\n",
      "New features added: ['date', 'hour', 'day_of_week', 'month', 'is_weekend', 'text_length', 'word_count', 'weighted_score']\n",
      "  Text length: min=11, mean=336.8, max=4194\n",
      "  Word count: min=1, mean=57.2, max=739\n",
      "  Day distribution: {'Saturday': 344, 'Wednesday': 314, 'Sunday': 308, 'Tuesday': 294, 'Friday': 289, 'Monday': 278, 'Thursday': 96}\n",
      "  Weekend posts: 33.9%\n",
      "\n",
      "Step 7 complete: 1923 rows with enhanced features\n"
     ]
    }
   ],
   "source": [
    "# 7. Feature Engineering: Add Temporal and Engagement Features\n",
    "\n",
    "if len(df_cleaned) > 0:\n",
    "    df_features = add_temporal_features(df_cleaned)\n",
    "    df_features = add_engagement_features(df_features)\n",
    "\n",
    "    # Create weighted_score: score × upvote_ratio\n",
    "    if 'score' in df_features.columns and 'upvote_ratio' in df_features.columns:\n",
    "        df_features['weighted_score'] = df_features['score'] * df_features['upvote_ratio']\n",
    "        print(f\"\\nCreated 'weighted_score' feature (score × upvote_ratio)\")\n",
    "\n",
    "    # Drop original score and upvote_ratio columns (we have weighted_score now)\n",
    "    columns_to_drop = ['score', 'upvote_ratio']\n",
    "    existing_cols_to_drop = [col for col in columns_to_drop if col in df_features.columns]\n",
    "    if existing_cols_to_drop:\n",
    "        df_features.drop(columns=existing_cols_to_drop, inplace=True)\n",
    "        print(f\"Dropped columns: {existing_cols_to_drop}\")\n",
    "\n",
    "    print(f\"Enhanced dataframe shape: {df_features.shape}\")\n",
    "\n",
    "    new_features = ['date', 'hour', 'day_of_week', 'month', 'is_weekend',\n",
    "                   'text_length', 'word_count', 'weighted_score']\n",
    "    print(f\"\\nNew features added: {[f for f in new_features if f in df_features.columns]}\")\n",
    "\n",
    "    # Show feature statistics\n",
    "    if 'text_length' in df_features.columns:\n",
    "        print(f\"  Text length: min={df_features['text_length'].min()}, \"\n",
    "              f\"mean={df_features['text_length'].mean():.1f}, \"\n",
    "              f\"max={df_features['text_length'].max()}\")\n",
    "\n",
    "    if 'word_count' in df_features.columns:\n",
    "        print(f\"  Word count: min={df_features['word_count'].min()}, \"\n",
    "              f\"mean={df_features['word_count'].mean():.1f}, \"\n",
    "              f\"max={df_features['word_count'].max()}\")\n",
    "\n",
    "    if 'day_of_week' in df_features.columns:\n",
    "        day_counts = df_features['day_of_week'].value_counts()\n",
    "        print(f\"  Day distribution: {day_counts.to_dict()}\")\n",
    "\n",
    "    if 'is_weekend' in df_features.columns:\n",
    "        weekend_pct = df_features['is_weekend'].mean() * 100\n",
    "        print(f\"  Weekend posts: {weekend_pct:.1f}%\")\n",
    "\n",
    "else:\n",
    "    print(\"No data for feature engineering\")\n",
    "    df_features = pd.DataFrame()\n",
    "\n",
    "print(f\"\\nStep 7 complete: {len(df_features)} rows with enhanced features\")"
   ]
  },
  {
   "cell_type": "markdown",
   "id": "fc65145b",
   "metadata": {},
   "source": [
    "## 8. Ticker detection\n",
    "\n",
    "Detekujeme tickery v textu podle načteného seznamu a uložíme je do `mentioned_tickers` a `n_tickers`. Chceme vědět, o které akcie se mluví v jednotlivých záznamech."
   ]
  },
  {
   "cell_type": "markdown",
   "id": "3e06b43a",
   "metadata": {},
   "source": [
    "### 8.1 Identifying Stock Ticker Mentions"
   ]
  },
  {
   "cell_type": "code",
   "execution_count": 20,
   "id": "18f9518c",
   "metadata": {},
   "outputs": [
    {
     "name": "stdout",
     "output_type": "stream",
     "text": [
      "Detecting tickers in 1923 texts using 8031 symbols\n"
     ]
    },
    {
     "name": "stderr",
     "output_type": "stream",
     "text": [
      "100%|██████████| 1923/1923 [00:00<00:00, 78467.23it/s]"
     ]
    },
    {
     "name": "stdout",
     "output_type": "stream",
     "text": [
      "  Total rows: 1923\n",
      "  Rows with tickers: 346 (18.0%)\n",
      "  Rows without tickers: 1577\n",
      "\n",
      "Ticker count distribution:\n",
      "  0 tickers: 1577 rows\n",
      "  1 tickers: 242 rows\n",
      "  2 tickers: 63 rows\n",
      "  3 tickers: 22 rows\n",
      "  4 tickers: 8 rows\n",
      "  5 tickers: 4 rows\n",
      "  6 tickers: 1 rows\n",
      "  7 tickers: 3 rows\n",
      "  12 tickers: 1 rows\n",
      "  14 tickers: 1 rows\n",
      "\n",
      "Step 8 complete: Processed 1923 rows for ticker detection\n"
     ]
    },
    {
     "name": "stderr",
     "output_type": "stream",
     "text": [
      "\n"
     ]
    }
   ],
   "source": [
    "# 8. Ticker Detection: Identify Stock Ticker Mentions\n",
    "\n",
    "if len(df_features) > 0 and len(tickers_df) > 0:\n",
    "    print(f\"Detecting tickers in {len(df_features)} texts using {len(tickers_df)} symbols\")\n",
    "\n",
    "    df_with_tickers = apply_ticker_detection(df_features, tickers_df)\n",
    "\n",
    "    # results\n",
    "    ticker_stats = df_with_tickers['n_tickers'].value_counts().sort_index()\n",
    "    total_with_tickers = (df_with_tickers['n_tickers'] > 0).sum()\n",
    "    print(f\"  Total rows: {len(df_with_tickers)}\")\n",
    "    print(f\"  Rows with tickers: {total_with_tickers} ({total_with_tickers/len(df_with_tickers)*100:.1f}%)\")\n",
    "    print(f\"  Rows without tickers: {len(df_with_tickers) - total_with_tickers}\")\n",
    "\n",
    "    print(f\"\\nTicker count distribution:\")\n",
    "    for count, rows in ticker_stats.head(10).items():\n",
    "        print(f\"  {count} tickers: {rows} rows\")\n",
    "\n",
    "else:\n",
    "    print(\"No data or tickers available for detection\")\n",
    "    df_with_tickers = pd.DataFrame()\n",
    "\n",
    "print(f\"\\nStep 8 complete: Processed {len(df_with_tickers)} rows for ticker detection\")"
   ]
  },
  {
   "cell_type": "markdown",
   "id": "abaccec9",
   "metadata": {},
   "source": [
    "### 8.2 Ticker inheritance — Comments inherit parent post tickers\n",
    "\n",
    "Pokud komentář nemá zmíněný ticker, vezmeme tickery z rodičovského postu a spojíme je (union). Tím zlepšíme pokrytí tickerů u komentářů, které odkazují na post bez přesný zmínky."
   ]
  },
  {
   "cell_type": "code",
   "execution_count": 21,
   "id": "8588d8da",
   "metadata": {},
   "outputs": [
    {
     "name": "stdout",
     "output_type": "stream",
     "text": [
      "  Recalculated ticker_exchanges after inheritance\n",
      "  Total comments: 924\n",
      "  Comments with tickers (after inheritance): 131\n",
      "  Coverage: 14.2%\n",
      "\n",
      "Step 8.2 completed\n"
     ]
    }
   ],
   "source": [
    "# 8.2 Ticker Inheritance from Parent Posts\n",
    "\n",
    "if len(df_with_tickers) > 0:\n",
    "    posts = df_with_tickers[df_with_tickers['type'] == 'post'].copy()\n",
    "    post_ticker_map = {}\n",
    "\n",
    "    for _, row in posts.iterrows():\n",
    "        post_id = row['id']\n",
    "        tickers_data = row.get('mentioned_tickers', [])\n",
    "\n",
    "        if isinstance(tickers_data, list) and len(tickers_data) > 0:\n",
    "            post_ticker_map[post_id] = set(tickers_data)\n",
    "\n",
    "    def inherit_parent_tickers(row):\n",
    "        if row['type'] == 'comment':\n",
    "            parent_id = row.get('parent_post_id')\n",
    "            if pd.notna(parent_id) and parent_id in post_ticker_map:\n",
    "                own_tickers = set(row.get('mentioned_tickers', []))\n",
    "                parent_tickers = post_ticker_map[parent_id]\n",
    "                merged_tickers = own_tickers.union(parent_tickers)\n",
    "                return sorted(merged_tickers)\n",
    "\n",
    "        tickers_data = row.get('mentioned_tickers', [])\n",
    "        return tickers_data if isinstance(tickers_data, list) else []\n",
    "    df_with_tickers['mentioned_tickers'] = df_with_tickers.apply(inherit_parent_tickers, axis=1)\n",
    "    df_with_tickers['n_tickers'] = df_with_tickers['mentioned_tickers'].apply(len)\n",
    "\n",
    "    # Recalculate ticker_exchanges\n",
    "    ticker_to_exchange = dict(zip(tickers_df[\"ticker\"], tickers_df[\"exchange\"]))\n",
    "\n",
    "    def get_ticker_exchanges_from_list(ticker_list):\n",
    "        \"\"\"Get exchanges for ticker list after inheritance.\"\"\"\n",
    "        if not ticker_list or len(ticker_list) == 0:\n",
    "            return ''\n",
    "\n",
    "        exchanges = set()\n",
    "        for ticker in ticker_list:\n",
    "            exchange = ticker_to_exchange.get(ticker)\n",
    "            if exchange:\n",
    "                exchanges.add(exchange)\n",
    "\n",
    "        if len(exchanges) == 0:\n",
    "            return ''\n",
    "        elif len(exchanges) == 1:\n",
    "            return list(exchanges)[0]\n",
    "        else:\n",
    "            return 'BOTH'\n",
    "\n",
    "    df_with_tickers['ticker_exchanges'] = df_with_tickers['mentioned_tickers'].apply(\n",
    "        get_ticker_exchanges_from_list\n",
    "    )\n",
    "    print(\"  Recalculated ticker_exchanges after inheritance\")\n",
    "\n",
    "    comments = df_with_tickers[df_with_tickers['type'] == 'comment']\n",
    "    comments_with_tickers = comments[comments['n_tickers'] > 0]\n",
    "\n",
    "    print(f\"  Total comments: {len(comments)}\")\n",
    "    print(f\"  Comments with tickers (after inheritance): {len(comments_with_tickers)}\")\n",
    "    if len(comments) > 0:\n",
    "        print(f\"  Coverage: {len(comments_with_tickers) / len(comments) * 100:.1f}%\")\n",
    "    else:\n",
    "        print(f\"  Coverage: N/A (no comments)\")\n",
    "\n",
    "    print(\"\\nStep 8.2 completed\")\n",
    "else:\n",
    "    print(\"No data to process\")"
   ]
  },
  {
   "cell_type": "markdown",
   "id": "8588d8da",
   "metadata": {},
   "source": [
    "### 8.3 Success check of inheritance"
   ]
  },
  {
   "cell_type": "code",
   "execution_count": 22,
   "id": "2a3481ad",
   "metadata": {},
   "outputs": [
    {
     "name": "stdout",
     "output_type": "stream",
     "text": [
      "Total comments with tickers: 131\n",
      "Comments that inherited tickers: 131\n",
      "Comments that mention tickers explicitly: 0\n",
      "Inheritance success rate: 100.0%\n"
     ]
    }
   ],
   "source": [
    "# 8.3 Ticker Inheritance Examples: Show Cases Where Comments GOT Tickers via Inheritance\n",
    "\n",
    "if len(df_with_tickers) > 0:\n",
    "    comments = df_with_tickers[df_with_tickers['type'] == 'comment'].copy()\n",
    "    comments_with_tickers = comments[comments['n_tickers'] > 0]\n",
    "    comments_with_parents = comments_with_tickers[comments_with_tickers['parent_post_id'].notna()]\n",
    "\n",
    "    def has_ticker_in_text(text, tickers_str):\n",
    "        if not text or not tickers_str:\n",
    "            return False\n",
    "        text_upper = str(text).upper()\n",
    "        ticker_list = str(tickers_str).split(',')\n",
    "\n",
    "        for ticker in ticker_list:\n",
    "            ticker = ticker.strip()\n",
    "            words = text_upper.split()\n",
    "            if ticker in words:\n",
    "                return True\n",
    "            if f\"${ticker}\" in text_upper:\n",
    "                return True\n",
    "        return False\n",
    "\n",
    "    inherited_only = []\n",
    "    explicit_mention = []\n",
    "\n",
    "    for idx, comment in comments_with_parents.iterrows():\n",
    "        has_explicit = has_ticker_in_text(comment['text'], comment['mentioned_tickers'])\n",
    "\n",
    "        if has_explicit:\n",
    "            explicit_mention.append(comment)\n",
    "        else:\n",
    "            inherited_only.append(comment)\n",
    "    print(f\"Total comments with tickers: {len(comments_with_tickers)}\")\n",
    "    print(f\"Comments that inherited tickers: {len(inherited_only)}\")\n",
    "    print(f\"Comments that mention tickers explicitly: {len(explicit_mention)}\")\n",
    "    print(f\"Inheritance success rate: {len(inherited_only)/len(comments_with_tickers)*100:.1f}%\")\n",
    "else:\n",
    "    print(\"No data available for analysis.\")"
   ]
  },
  {
   "cell_type": "markdown",
   "id": "a4d1feef",
   "metadata": {},
   "source": [
    "### 8.4 Data Type Conversion\n",
    "\n",
    "Ensure all columns have the correct data types after feature engineering and ticker detection. This is done here (after Step 8.2) to ensure type conversions persist through the pipeline."
   ]
  },
  {
   "cell_type": "code",
   "execution_count": 23,
   "id": "60357b88",
   "metadata": {},
   "outputs": [
    {
     "name": "stdout",
     "output_type": "stream",
     "text": [
      "\n",
      "Data types after conversion:\n",
      "  created_utc: datetime64[ns]\n",
      "  date: datetime64[ns]\n",
      "  type: category\n",
      "  subreddit: category\n",
      "  hour: int8\n",
      "  day_of_week: category\n",
      "  is_weekend: bool\n",
      "  text_length: int32\n",
      "  word_count: int32\n",
      "  n_tickers: int16\n",
      "  weighted_score: float32\n"
     ]
    }
   ],
   "source": [
    "# 8.4 Comprehensive Data Type Conversion\n",
    "\n",
    "if len(df_with_tickers) > 0:\n",
    "    # Datetime conversions\n",
    "    df_with_tickers['created_utc'] = pd.to_datetime(df_with_tickers['created_utc'])\n",
    "    df_with_tickers['date'] = pd.to_datetime(df_with_tickers['date'])\n",
    "\n",
    "    # Integer conversions\n",
    "    df_with_tickers['hour'] = df_with_tickers['hour'].astype('int8')\n",
    "    df_with_tickers['month'] = df_with_tickers['month'].astype('int8')\n",
    "    df_with_tickers['text_length'] = df_with_tickers['text_length'].astype('int32')\n",
    "    df_with_tickers['word_count'] = df_with_tickers['word_count'].astype('int32')\n",
    "    df_with_tickers['n_tickers'] = df_with_tickers['n_tickers'].astype('int16')\n",
    "\n",
    "    # Boolean conversions\n",
    "    df_with_tickers['is_weekend'] = df_with_tickers['is_weekend'].astype('bool')\n",
    "\n",
    "    # Category conversions\n",
    "    df_with_tickers['day_of_week'] = df_with_tickers['day_of_week'].astype('category')\n",
    "    df_with_tickers['type'] = df_with_tickers['type'].astype('category')\n",
    "    df_with_tickers['subreddit'] = df_with_tickers['subreddit'].astype('category')\n",
    "\n",
    "    # Float conversions\n",
    "    if 'weighted_score' in df_with_tickers.columns:\n",
    "        df_with_tickers['weighted_score'] = df_with_tickers['weighted_score'].astype('float32')\n",
    "\n",
    "    print(f\"\\nData types after conversion:\")\n",
    "    print(f\"  created_utc: {df_with_tickers['created_utc'].dtype}\")\n",
    "    print(f\"  date: {df_with_tickers['date'].dtype}\")\n",
    "    print(f\"  type: {df_with_tickers['type'].dtype}\")\n",
    "    print(f\"  subreddit: {df_with_tickers['subreddit'].dtype}\")\n",
    "    print(f\"  hour: {df_with_tickers['hour'].dtype}\")\n",
    "    print(f\"  day_of_week: {df_with_tickers['day_of_week'].dtype}\")\n",
    "    print(f\"  is_weekend: {df_with_tickers['is_weekend'].dtype}\")\n",
    "    print(f\"  text_length: {df_with_tickers['text_length'].dtype}\")\n",
    "    print(f\"  word_count: {df_with_tickers['word_count'].dtype}\")\n",
    "    print(f\"  n_tickers: {df_with_tickers['n_tickers'].dtype}\")\n",
    "    if 'weighted_score' in df_with_tickers.columns:\n",
    "        print(f\"  weighted_score: {df_with_tickers['weighted_score'].dtype}\")\n",
    "else:\n",
    "    print(\"No data available\")"
   ]
  },
  {
   "cell_type": "markdown",
   "id": "d0a40c9c",
   "metadata": {},
   "source": [
    "## 9. Text normalization\n",
    "\n",
    "Připravíme text pro sentiment a modely (tokenizace, lemmatizace, odstranění stopwords). "
   ]
  },
  {
   "cell_type": "code",
   "execution_count": 24,
   "id": "5ccc4a95",
   "metadata": {},
   "outputs": [
    {
     "name": "stderr",
     "output_type": "stream",
     "text": [
      "100%|██████████| 1923/1923 [00:00<00:00, 25934.89it/s]\n",
      "\n"
     ]
    },
    {
     "name": "stdout",
     "output_type": "stream",
     "text": [
      "Text normalization complete using spaCy\n",
      "Final dataframe shape: (1923, 18)\n",
      "Final columns: ['created_utc', 'id', 'text', 'subreddit', 'parent_post_id', 'type', 'date', 'hour', 'day_of_week', 'month', 'is_weekend', 'text_length', 'word_count', 'weighted_score', 'mentioned_tickers', 'n_tickers', 'ticker_exchanges', 'sentiment_ready_text']\n",
      "\n",
      "Final dataset statistics:\n",
      "  Total rows: 1923\n",
      "  Rows with tickers: 346\n",
      "  Average original text length: 336.8 characters\n",
      "  Average word count: 57.2 words\n",
      "\n",
      "impact:\n",
      "  Original text length: 336.8 chars\n",
      "  Sentiment-ready text length: 197.1 chars\n",
      "  Reduction from normalization: 41.5%\n",
      "  Stopword removal method: spaCy\n",
      "  Content distribution: {'post': 999, 'comment': 924}\n",
      "\n",
      "Step 9 complete: 1923 rows ready for sentiment analysis.\n"
     ]
    }
   ],
   "source": [
    "# 9. Text Normalization: Prepare Text for Sentiment Analysis\n",
    "# Tickers are already stored in 'mentioned_tickers' column, so we don't need to preserve them in text\n",
    "\n",
    "if len(df_with_tickers) > 0:\n",
    "    df_final = apply_text_normalization(df_with_tickers, keep_tickers=False)\n",
    "    if SPACY_AVAILABLE:\n",
    "        df_final['sentiment_ready_text'] = df_final['sentiment_ready_text'].apply(\n",
    "            lambda x: remove_stopwords_spacy(x, preserve_tickers=False)\n",
    "        )\n",
    "        stopword_method = \"spaCy\"\n",
    "    elif NLTK_AVAILABLE:\n",
    "        print(\"Using NLTK\")\n",
    "        df_final['sentiment_ready_text'] = df_final['sentiment_ready_text'].apply(\n",
    "            lambda x: remove_financial_stopwords(x, preserve_tickers=False)\n",
    "        )\n",
    "        stopword_method = \"NLTK\"\n",
    "    else:\n",
    "        print(\"Using built-in stopword removal (basic)\")\n",
    "        df_final['sentiment_ready_text'] = df_final['sentiment_ready_text'].apply(\n",
    "            lambda x: remove_financial_stopwords(x, preserve_tickers=False)\n",
    "        )\n",
    "        stopword_method = \"Built-in\"\n",
    "\n",
    "    print(f\"Text normalization complete using {stopword_method}\")\n",
    "    print(f\"Final dataframe shape: {df_final.shape}\")\n",
    "    print(f\"Final columns: {list(df_final.columns)}\")\n",
    "\n",
    "    # Final statistics\n",
    "    print(f\"\\nFinal dataset statistics:\")\n",
    "    print(f\"  Total rows: {len(df_final)}\")\n",
    "    print(f\"  Rows with tickers: {(df_final['n_tickers'] > 0).sum()}\")\n",
    "    print(f\"  Average original text length: {df_final['text_length'].mean():.1f} characters\")\n",
    "    print(f\"  Average word count: {df_final['word_count'].mean():.1f} words\")\n",
    "\n",
    "    # Show text processing impact\n",
    "    avg_original_length = df_final['text'].str.len().mean()\n",
    "    avg_sentiment_ready_length = df_final['sentiment_ready_text'].str.len().mean()\n",
    "\n",
    "    print(f\"\\nimpact:\")\n",
    "    print(f\"  Original text length: {avg_original_length:.1f} chars\")\n",
    "    print(f\"  Sentiment-ready text length: {avg_sentiment_ready_length:.1f} chars\")\n",
    "    print(f\"  Reduction from normalization: {((avg_original_length - avg_sentiment_ready_length) / avg_original_length * 100):.1f}%\")\n",
    "    print(f\"  Stopword removal method: {stopword_method}\")\n",
    "\n",
    "    if 'type' in df_final.columns:\n",
    "        type_dist = df_final['type'].value_counts()\n",
    "        print(f\"  Content distribution: {type_dist.to_dict()}\")\n",
    "\n",
    "else:\n",
    "    print(\"No data for text normalization\")\n",
    "    df_final = pd.DataFrame()\n",
    "\n",
    "print(f\"\\nStep 9 complete: {len(df_final)} rows ready for sentiment analysis.\")"
   ]
  },
  {
   "cell_type": "markdown",
   "id": "b520591c",
   "metadata": {},
   "source": [
    "## 10. Exporting results\n",
    "\n",
    "Uložíme finální dataset s připraveným textem a featurami (CSV). "
   ]
  },
  {
   "cell_type": "code",
   "execution_count": null,
   "id": "d5320390",
   "metadata": {},
   "outputs": [
    {
     "name": "stdout",
     "output_type": "stream",
     "text": [
      "Available columns: ['created_utc', 'id', 'text', 'subreddit', 'parent_post_id', 'type', 'date', 'hour', 'day_of_week', 'month', 'is_weekend', 'text_length', 'word_count', 'weighted_score', 'mentioned_tickers', 'n_tickers', 'ticker_exchanges', 'sentiment_ready_text']\n",
      "Converted 'mentioned_tickers' from list to comma-separated string format\n",
      "Exported 1923 rows to sentiment_ready_data.csv\n",
      "Exported columns: ['id', 'text', 'sentiment_ready_text', 'type', 'subreddit', 'created_utc', 'weighted_score', 'mentioned_tickers', 'n_tickers', 'ticker_exchanges', 'text_length', 'word_count', 'date', 'hour', 'day_of_week']\n",
      "\n",
      "Exchange distribution (rows with tickers):\n",
      "  NASDAQ: 145 rows\n",
      "  NYSE: 140 rows\n",
      "  BOTH: 61 rows\n",
      "\n",
      "Data is ready for sentiment analysis\n",
      "Use the 'sentiment_ready_text' column for sentiment modeling\n",
      "Use the 'mentioned_tickers' column for ticker information\n",
      "Use the 'ticker_exchanges' column for exchange information (NYSE/NASDAQ/BOTH)\n",
      "\n",
      "Step 10 complete: Preprocessing pipeline complete.\n"
     ]
    }
   ],
   "source": [
    "# 10. Export Results: Save Sentiment-Ready Data\n",
    "\n",
    "if len(df_final) > 0:\n",
    "    print(f\"Available columns: {list(df_final.columns)}\")\n",
    "\n",
    "    output_file = \"sentiment_ready_data.csv\"\n",
    "\n",
    "    sentiment_columns = [\n",
    "        'id', 'text', 'sentiment_ready_text', 'type', 'subreddit',\n",
    "        'created_utc', 'weighted_score', 'mentioned_tickers', 'n_tickers', 'ticker_exchanges',\n",
    "        'text_length', 'word_count', 'date', 'hour', 'day_of_week']\n",
    "\n",
    "    export_columns = [col for col in sentiment_columns if col in df_final.columns]\n",
    "    export_df = df_final[export_columns].copy()\n",
    "\n",
    "    # Convert mentioned_tickers from list to comma-separated string\n",
    "    if 'mentioned_tickers' in export_df.columns:\n",
    "        export_df['mentioned_tickers'] = export_df['mentioned_tickers'].apply(\n",
    "            lambda x: ','.join(x) if isinstance(x, list) and len(x) > 0 else ''\n",
    "        )\n",
    "        print(f\"Converted 'mentioned_tickers' from list to comma-separated string format\")\n",
    "\n",
    "    export_df.to_csv(output_file, index=False)\n",
    "    print(f\"Exported {len(export_df)} rows to {output_file}\")\n",
    "    print(f\"Exported columns: {export_columns}\")\n",
    "\n",
    "    if 'ticker_exchanges' in export_df.columns:\n",
    "        exchange_dist = export_df[export_df['ticker_exchanges'] != '']['ticker_exchanges'].value_counts()\n",
    "        print(f\"\\nExchange distribution (rows with tickers):\")\n",
    "        for exchange, count in exchange_dist.items():\n",
    "            print(f\"  {exchange}: {count} rows\")\n",
    "\n",
    "else:\n",
    "    print(\"No data to export\")\n",
    "\n",
    "print(f\"\\nStep 10 complete: Preprocessing pipeline complete.\")"
   ]
  }
 ],
 "metadata": {
  "kernelspec": {
   "display_name": "py311",
   "language": "python",
   "name": "python3"
  },
  "language_info": {
   "codemirror_mode": {
    "name": "ipython",
    "version": 3
   },
   "file_extension": ".py",
   "mimetype": "text/x-python",
   "name": "python",
   "nbconvert_exporter": "python",
   "pygments_lexer": "ipython3",
   "version": "3.11.8"
  }
 },
 "nbformat": 4,
 "nbformat_minor": 5
}
